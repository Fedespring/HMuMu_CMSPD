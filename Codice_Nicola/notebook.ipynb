import uproot
import awkward as ak
import matplotlib.pyplot as plt
import os

# File e TTree
inputdir = "/lustre/cmsdata/tosi/Hmumu/mc/2024/VBF-Hto2Mu_Par-M-125_TuneCP5_13p6TeV_amcatnlo-pythia8_150X_mcRun3_2024_realistic_v2_nanoAODv15/"
filename = "a070b227-6eee-4174-8e5c-7af4ba14007f.root"
tree_name = "Events"
branches_to_check = ["nMuon", "nJet", "nPhoton"]

# Apri il file
with uproot.open(inputdir+filename) as file:
    if tree_name not in file:
        raise KeyError(f"TTree '{tree_name}' non trovato nel file.")
    events = file[tree_name]

    # Filtra solo branch esistenti
    keys = set(events.keys()) # essendo molte le chiavi, uso un set per efficienza (ricerca va come O(1))
    existing_branches = [b for b in branches_to_check if b in keys]
    missing_branches  = [b for b in branches_to_check if b not in keys]
    if missing_branches:
        print(f"Attenzione: i seguenti branch non esistono e verranno ignorati: {missing_branches}")

    # Carica dati
    data = events.arrays(existing_branches) # mappa nome_branch -> array awkward

# Crea cartella per i plot se non esiste
os.makedirs("plots", exist_ok=True)

# Plot molteplicità
for name in existing_branches:
    plt.figure()
    values = ak.to_numpy(data[name])
    plt.hist(values, bins=range(0, max(values)+2), histtype='step', color='blue')
    plt.xlabel(name)
    plt.ylabel("Event count")
    plt.title(f"Multiplicity of {name}")
    plt.grid(True)
    plt.savefig(f"plots/{name}_multiplicity.png")
    plt.close()